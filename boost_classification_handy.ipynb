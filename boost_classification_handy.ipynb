{
 "cells": [
  {
   "cell_type": "markdown",
   "metadata": {},
   "source": [
    "самый простой dataset"
   ]
  },
  {
   "cell_type": "code",
   "execution_count": 17,
   "metadata": {},
   "outputs": [],
   "source": [
    "from sklearn.ensemble import GradientBoostingClassifier\n",
    "from pathlib import Path\n",
    "from pydotplus import graph_from_dot_data\n",
    "from IPython.display import Image\n",
    "import pandas as pd \n",
    "import numpy as np\n",
    "from sklearn.tree import export_graphviz\n"
   ]
  },
  {
   "cell_type": "code",
   "execution_count": 18,
   "metadata": {},
   "outputs": [
    {
     "data": {
      "text/html": [
       "<div>\n",
       "<style scoped>\n",
       "    .dataframe tbody tr th:only-of-type {\n",
       "        vertical-align: middle;\n",
       "    }\n",
       "\n",
       "    .dataframe tbody tr th {\n",
       "        vertical-align: top;\n",
       "    }\n",
       "\n",
       "    .dataframe thead th {\n",
       "        text-align: right;\n",
       "    }\n",
       "</style>\n",
       "<table border=\"1\" class=\"dataframe\">\n",
       "  <thead>\n",
       "    <tr style=\"text-align: right;\">\n",
       "      <th></th>\n",
       "      <th>Age</th>\n",
       "      <th>y</th>\n",
       "    </tr>\n",
       "  </thead>\n",
       "  <tbody>\n",
       "    <tr>\n",
       "      <th>0</th>\n",
       "      <td>12</td>\n",
       "      <td>1</td>\n",
       "    </tr>\n",
       "    <tr>\n",
       "      <th>1</th>\n",
       "      <td>87</td>\n",
       "      <td>1</td>\n",
       "    </tr>\n",
       "    <tr>\n",
       "      <th>2</th>\n",
       "      <td>44</td>\n",
       "      <td>0</td>\n",
       "    </tr>\n",
       "  </tbody>\n",
       "</table>\n",
       "</div>"
      ],
      "text/plain": [
       "   Age  y\n",
       "0   12  1\n",
       "1   87  1\n",
       "2   44  0"
      ]
     },
     "execution_count": 18,
     "metadata": {},
     "output_type": "execute_result"
    }
   ],
   "source": [
    "data = pd.DataFrame(data={'Age':[12, 87, 44], 'y':[1, 1, 0]}, columns=['Age', 'y'])\n",
    "y = data['y']\n",
    "\n",
    "\n",
    "X_train = data[['Age']]\n",
    "data"
   ]
  },
  {
   "cell_type": "code",
   "execution_count": 19,
   "metadata": {},
   "outputs": [
    {
     "data": {
      "text/plain": [
       "array([1, 1, 1], dtype=int64)"
      ]
     },
     "execution_count": 19,
     "metadata": {},
     "output_type": "execute_result"
    }
   ],
   "source": [
    "learning_rate=0.1\n",
    "clf = GradientBoostingClassifier(n_estimators=2, learning_rate=learning_rate, max_depth=1, random_state=0).fit(X_train, y)\n",
    "clf.predict(X_train)\n"
   ]
  },
  {
   "cell_type": "code",
   "execution_count": 20,
   "metadata": {},
   "outputs": [
    {
     "data": {
      "text/html": [
       "<div>\n",
       "<style scoped>\n",
       "    .dataframe tbody tr th:only-of-type {\n",
       "        vertical-align: middle;\n",
       "    }\n",
       "\n",
       "    .dataframe tbody tr th {\n",
       "        vertical-align: top;\n",
       "    }\n",
       "\n",
       "    .dataframe thead th {\n",
       "        text-align: right;\n",
       "    }\n",
       "</style>\n",
       "<table border=\"1\" class=\"dataframe\">\n",
       "  <thead>\n",
       "    <tr style=\"text-align: right;\">\n",
       "      <th></th>\n",
       "      <th>Age</th>\n",
       "      <th>y</th>\n",
       "      <th>initial_prediction</th>\n",
       "      <th>output_0</th>\n",
       "      <th>residuals_0</th>\n",
       "    </tr>\n",
       "  </thead>\n",
       "  <tbody>\n",
       "    <tr>\n",
       "      <th>0</th>\n",
       "      <td>12</td>\n",
       "      <td>1</td>\n",
       "      <td>0.666667</td>\n",
       "      <td>0.693147</td>\n",
       "      <td>0.333333</td>\n",
       "    </tr>\n",
       "    <tr>\n",
       "      <th>1</th>\n",
       "      <td>87</td>\n",
       "      <td>1</td>\n",
       "      <td>0.666667</td>\n",
       "      <td>0.693147</td>\n",
       "      <td>0.333333</td>\n",
       "    </tr>\n",
       "    <tr>\n",
       "      <th>2</th>\n",
       "      <td>44</td>\n",
       "      <td>0</td>\n",
       "      <td>0.666667</td>\n",
       "      <td>0.693147</td>\n",
       "      <td>-0.666667</td>\n",
       "    </tr>\n",
       "  </tbody>\n",
       "</table>\n",
       "</div>"
      ],
      "text/plain": [
       "   Age  y  initial_prediction  output_0  residuals_0\n",
       "0   12  1            0.666667  0.693147     0.333333\n",
       "1   87  1            0.666667  0.693147     0.333333\n",
       "2   44  0            0.666667  0.693147    -0.666667"
      ]
     },
     "execution_count": 20,
     "metadata": {},
     "output_type": "execute_result"
    }
   ],
   "source": [
    "initial_prediction = y.mean()\n",
    "# 2/3\n",
    "\n",
    "data['initial_prediction'] = initial_prediction\n",
    "data['output_0'] = np.log(initial_prediction/(1-initial_prediction))\n",
    "data['residuals_0'] = data['y'] - initial_prediction\n",
    "\n",
    "data\n",
    "\n",
    "# initial prediction - это вероятность начальная, а output мерится в logodds = log(p/(1-p))"
   ]
  },
  {
   "cell_type": "markdown",
   "metadata": {},
   "source": [
    "первое дерево, которое делает predict residuals_0"
   ]
  },
  {
   "cell_type": "code",
   "execution_count": 21,
   "metadata": {},
   "outputs": [
    {
     "data": {
      "image/png": "[encoded data removed]",
      "text/plain": [
       "<IPython.core.display.Image object>"
      ]
     },
     "execution_count": 21,
     "metadata": {},
     "output_type": "execute_result"
    }
   ],
   "source": [
    "# Get the tree number 1\n",
    "sub_tree = clf.estimators_[0, 0]\n",
    "\n",
    "# Visualization\n",
    "\n",
    "dot_data = export_graphviz(\n",
    "    sub_tree,\n",
    "    out_file=None, filled=True, rounded=True,\n",
    "    special_characters=True,\n",
    "    proportion=False, impurity=False, # enable them if you want\n",
    ")\n",
    "graph = graph_from_dot_data(dot_data)\n",
    "png = graph.create_png()\n",
    "\n",
    "Path('./out_1.png').write_bytes(png)\n",
    "Image(png)"
   ]
  },
  {
   "cell_type": "code",
   "execution_count": 22,
   "metadata": {},
   "outputs": [
    {
     "data": {
      "text/html": [
       "<div>\n",
       "<style scoped>\n",
       "    .dataframe tbody tr th:only-of-type {\n",
       "        vertical-align: middle;\n",
       "    }\n",
       "\n",
       "    .dataframe tbody tr th {\n",
       "        vertical-align: top;\n",
       "    }\n",
       "\n",
       "    .dataframe thead th {\n",
       "        text-align: right;\n",
       "    }\n",
       "</style>\n",
       "<table border=\"1\" class=\"dataframe\">\n",
       "  <thead>\n",
       "    <tr style=\"text-align: right;\">\n",
       "      <th></th>\n",
       "      <th>Age</th>\n",
       "      <th>y</th>\n",
       "      <th>initial_prediction</th>\n",
       "      <th>output_0</th>\n",
       "      <th>residuals_0</th>\n",
       "    </tr>\n",
       "  </thead>\n",
       "  <tbody>\n",
       "    <tr>\n",
       "      <th>0</th>\n",
       "      <td>12</td>\n",
       "      <td>1</td>\n",
       "      <td>0.666667</td>\n",
       "      <td>0.693147</td>\n",
       "      <td>0.333333</td>\n",
       "    </tr>\n",
       "  </tbody>\n",
       "</table>\n",
       "</div>"
      ],
      "text/plain": [
       "   Age  y  initial_prediction  output_0  residuals_0\n",
       "0   12  1            0.666667  0.693147     0.333333"
      ]
     },
     "execution_count": 22,
     "metadata": {},
     "output_type": "execute_result"
    }
   ],
   "source": [
    "# влево идут\n",
    "mask = (data['Age']<28)\n",
    "data[mask]\n"
   ]
  },
  {
   "cell_type": "code",
   "execution_count": 23,
   "metadata": {},
   "outputs": [
    {
     "data": {
      "text/html": [
       "<div>\n",
       "<style scoped>\n",
       "    .dataframe tbody tr th:only-of-type {\n",
       "        vertical-align: middle;\n",
       "    }\n",
       "\n",
       "    .dataframe tbody tr th {\n",
       "        vertical-align: top;\n",
       "    }\n",
       "\n",
       "    .dataframe thead th {\n",
       "        text-align: right;\n",
       "    }\n",
       "</style>\n",
       "<table border=\"1\" class=\"dataframe\">\n",
       "  <thead>\n",
       "    <tr style=\"text-align: right;\">\n",
       "      <th></th>\n",
       "      <th>Age</th>\n",
       "      <th>y</th>\n",
       "      <th>initial_prediction</th>\n",
       "      <th>output_0</th>\n",
       "      <th>residuals_0</th>\n",
       "      <th>output_1</th>\n",
       "    </tr>\n",
       "  </thead>\n",
       "  <tbody>\n",
       "    <tr>\n",
       "      <th>0</th>\n",
       "      <td>12</td>\n",
       "      <td>1</td>\n",
       "      <td>0.666667</td>\n",
       "      <td>0.693147</td>\n",
       "      <td>0.333333</td>\n",
       "      <td>1.5</td>\n",
       "    </tr>\n",
       "    <tr>\n",
       "      <th>1</th>\n",
       "      <td>87</td>\n",
       "      <td>1</td>\n",
       "      <td>0.666667</td>\n",
       "      <td>0.693147</td>\n",
       "      <td>0.333333</td>\n",
       "      <td>NaN</td>\n",
       "    </tr>\n",
       "    <tr>\n",
       "      <th>2</th>\n",
       "      <td>44</td>\n",
       "      <td>0</td>\n",
       "      <td>0.666667</td>\n",
       "      <td>0.693147</td>\n",
       "      <td>-0.666667</td>\n",
       "      <td>NaN</td>\n",
       "    </tr>\n",
       "  </tbody>\n",
       "</table>\n",
       "</div>"
      ],
      "text/plain": [
       "   Age  y  initial_prediction  output_0  residuals_0  output_1\n",
       "0   12  1            0.666667  0.693147     0.333333       1.5\n",
       "1   87  1            0.666667  0.693147     0.333333       NaN\n",
       "2   44  0            0.666667  0.693147    -0.666667       NaN"
      ]
     },
     "execution_count": 23,
     "metadata": {},
     "output_type": "execute_result"
    }
   ],
   "source": [
    "# как посчитать output value для первого узла\n",
    "mask = (data['Age']<28)\n",
    "data[mask]\n",
    "data.loc[mask, 'output_1'] =  data.loc[mask, 'residuals_0']/(data.loc[mask, 'initial_prediction']*(1-data.loc[mask, 'initial_prediction']))\n",
    "data"
   ]
  },
  {
   "cell_type": "code",
   "execution_count": 24,
   "metadata": {},
   "outputs": [
    {
     "data": {
      "text/plain": [
       "1.5"
      ]
     },
     "execution_count": 24,
     "metadata": {},
     "output_type": "execute_result"
    }
   ],
   "source": [
    "# как посчитать output value для первого узла\n",
    "p_prev = 2/3\n",
    "residual = 1-2/3\n",
    "output = residual/(p_prev*(1-p_prev))\n",
    "output"
   ]
  },
  {
   "cell_type": "code",
   "execution_count": 25,
   "metadata": {},
   "outputs": [
    {
     "data": {
      "text/html": [
       "<div>\n",
       "<style scoped>\n",
       "    .dataframe tbody tr th:only-of-type {\n",
       "        vertical-align: middle;\n",
       "    }\n",
       "\n",
       "    .dataframe tbody tr th {\n",
       "        vertical-align: top;\n",
       "    }\n",
       "\n",
       "    .dataframe thead th {\n",
       "        text-align: right;\n",
       "    }\n",
       "</style>\n",
       "<table border=\"1\" class=\"dataframe\">\n",
       "  <thead>\n",
       "    <tr style=\"text-align: right;\">\n",
       "      <th></th>\n",
       "      <th>Age</th>\n",
       "      <th>y</th>\n",
       "      <th>initial_prediction</th>\n",
       "      <th>output_0</th>\n",
       "      <th>residuals_0</th>\n",
       "      <th>output_1</th>\n",
       "    </tr>\n",
       "  </thead>\n",
       "  <tbody>\n",
       "    <tr>\n",
       "      <th>1</th>\n",
       "      <td>87</td>\n",
       "      <td>1</td>\n",
       "      <td>0.666667</td>\n",
       "      <td>0.693147</td>\n",
       "      <td>0.333333</td>\n",
       "      <td>NaN</td>\n",
       "    </tr>\n",
       "    <tr>\n",
       "      <th>2</th>\n",
       "      <td>44</td>\n",
       "      <td>0</td>\n",
       "      <td>0.666667</td>\n",
       "      <td>0.693147</td>\n",
       "      <td>-0.666667</td>\n",
       "      <td>NaN</td>\n",
       "    </tr>\n",
       "  </tbody>\n",
       "</table>\n",
       "</div>"
      ],
      "text/plain": [
       "   Age  y  initial_prediction  output_0  residuals_0  output_1\n",
       "1   87  1            0.666667  0.693147     0.333333       NaN\n",
       "2   44  0            0.666667  0.693147    -0.666667       NaN"
      ]
     },
     "execution_count": 25,
     "metadata": {},
     "output_type": "execute_result"
    }
   ],
   "source": [
    "# вправо идут\n",
    "mask = (data['Age']>28)\n",
    "data[mask]\n"
   ]
  },
  {
   "cell_type": "code",
   "execution_count": 26,
   "metadata": {},
   "outputs": [
    {
     "data": {
      "text/plain": [
       "-0.7499999999999998"
      ]
     },
     "execution_count": 26,
     "metadata": {},
     "output_type": "execute_result"
    }
   ],
   "source": [
    "#  а как посчитать output value для второго узла\n",
    "p_prev_1 = 2/3\n",
    "p_prev_2 = 2/3\n",
    "\n",
    "\n",
    "residual_1 = 1-p_prev_1\n",
    "residual_2 = 0-p_prev_2\n",
    "output = (residual_1+residual_2)/(p_prev_1*(1-p_prev_1)+p_prev_2*(1-p_prev_2))\n",
    "output"
   ]
  },
  {
   "cell_type": "code",
   "execution_count": 27,
   "metadata": {},
   "outputs": [
    {
     "data": {
      "text/html": [
       "<div>\n",
       "<style scoped>\n",
       "    .dataframe tbody tr th:only-of-type {\n",
       "        vertical-align: middle;\n",
       "    }\n",
       "\n",
       "    .dataframe tbody tr th {\n",
       "        vertical-align: top;\n",
       "    }\n",
       "\n",
       "    .dataframe thead th {\n",
       "        text-align: right;\n",
       "    }\n",
       "</style>\n",
       "<table border=\"1\" class=\"dataframe\">\n",
       "  <thead>\n",
       "    <tr style=\"text-align: right;\">\n",
       "      <th></th>\n",
       "      <th>Age</th>\n",
       "      <th>y</th>\n",
       "      <th>initial_prediction</th>\n",
       "      <th>output_0</th>\n",
       "      <th>residuals_0</th>\n",
       "      <th>output_1</th>\n",
       "    </tr>\n",
       "  </thead>\n",
       "  <tbody>\n",
       "    <tr>\n",
       "      <th>0</th>\n",
       "      <td>12</td>\n",
       "      <td>1</td>\n",
       "      <td>0.666667</td>\n",
       "      <td>0.693147</td>\n",
       "      <td>0.333333</td>\n",
       "      <td>1.50</td>\n",
       "    </tr>\n",
       "    <tr>\n",
       "      <th>1</th>\n",
       "      <td>87</td>\n",
       "      <td>1</td>\n",
       "      <td>0.666667</td>\n",
       "      <td>0.693147</td>\n",
       "      <td>0.333333</td>\n",
       "      <td>-0.75</td>\n",
       "    </tr>\n",
       "    <tr>\n",
       "      <th>2</th>\n",
       "      <td>44</td>\n",
       "      <td>0</td>\n",
       "      <td>0.666667</td>\n",
       "      <td>0.693147</td>\n",
       "      <td>-0.666667</td>\n",
       "      <td>-0.75</td>\n",
       "    </tr>\n",
       "  </tbody>\n",
       "</table>\n",
       "</div>"
      ],
      "text/plain": [
       "   Age  y  initial_prediction  output_0  residuals_0  output_1\n",
       "0   12  1            0.666667  0.693147     0.333333      1.50\n",
       "1   87  1            0.666667  0.693147     0.333333     -0.75\n",
       "2   44  0            0.666667  0.693147    -0.666667     -0.75"
      ]
     },
     "execution_count": 27,
     "metadata": {},
     "output_type": "execute_result"
    }
   ],
   "source": [
    "# как посчитать output value для второго узла \n",
    "mask = (data['Age']>28)\n",
    "data[mask]\n",
    "data.loc[mask, 'output_1'] =  data.loc[mask, 'residuals_0'].sum()/(data.loc[mask, 'initial_prediction']*(1-data.loc[mask, 'initial_prediction']).sum())\n",
    "data"
   ]
  },
  {
   "cell_type": "markdown",
   "metadata": {},
   "source": [
    "теперь расчитаем на вероятность"
   ]
  },
  {
   "cell_type": "code",
   "execution_count": 28,
   "metadata": {},
   "outputs": [
    {
     "data": {
      "text/html": [
       "<div>\n",
       "<style scoped>\n",
       "    .dataframe tbody tr th:only-of-type {\n",
       "        vertical-align: middle;\n",
       "    }\n",
       "\n",
       "    .dataframe tbody tr th {\n",
       "        vertical-align: top;\n",
       "    }\n",
       "\n",
       "    .dataframe thead th {\n",
       "        text-align: right;\n",
       "    }\n",
       "</style>\n",
       "<table border=\"1\" class=\"dataframe\">\n",
       "  <thead>\n",
       "    <tr style=\"text-align: right;\">\n",
       "      <th></th>\n",
       "      <th>Age</th>\n",
       "      <th>y</th>\n",
       "      <th>initial_prediction</th>\n",
       "      <th>output_0</th>\n",
       "      <th>residuals_0</th>\n",
       "      <th>output_1</th>\n",
       "      <th>prediction_1</th>\n",
       "    </tr>\n",
       "  </thead>\n",
       "  <tbody>\n",
       "    <tr>\n",
       "      <th>0</th>\n",
       "      <td>12</td>\n",
       "      <td>1</td>\n",
       "      <td>0.666667</td>\n",
       "      <td>0.693147</td>\n",
       "      <td>0.333333</td>\n",
       "      <td>1.50</td>\n",
       "      <td>0.699128</td>\n",
       "    </tr>\n",
       "    <tr>\n",
       "      <th>1</th>\n",
       "      <td>87</td>\n",
       "      <td>1</td>\n",
       "      <td>0.666667</td>\n",
       "      <td>0.693147</td>\n",
       "      <td>0.333333</td>\n",
       "      <td>-0.75</td>\n",
       "      <td>0.649797</td>\n",
       "    </tr>\n",
       "    <tr>\n",
       "      <th>2</th>\n",
       "      <td>44</td>\n",
       "      <td>0</td>\n",
       "      <td>0.666667</td>\n",
       "      <td>0.693147</td>\n",
       "      <td>-0.666667</td>\n",
       "      <td>-0.75</td>\n",
       "      <td>0.649797</td>\n",
       "    </tr>\n",
       "  </tbody>\n",
       "</table>\n",
       "</div>"
      ],
      "text/plain": [
       "   Age  y  initial_prediction  output_0  residuals_0  output_1  prediction_1\n",
       "0   12  1            0.666667  0.693147     0.333333      1.50      0.699128\n",
       "1   87  1            0.666667  0.693147     0.333333     -0.75      0.649797\n",
       "2   44  0            0.666667  0.693147    -0.666667     -0.75      0.649797"
      ]
     },
     "execution_count": 28,
     "metadata": {},
     "output_type": "execute_result"
    }
   ],
   "source": [
    "output_1_total = data['output_0'] + learning_rate*data['output_1']\n",
    "data['prediction_1'] = 1/(1+np.exp(-output_1_total))\n",
    "data"
   ]
  },
  {
   "cell_type": "code",
   "execution_count": 29,
   "metadata": {},
   "outputs": [
    {
     "name": "stdout",
     "output_type": "stream",
     "text": [
      "[[0.30087237 0.69912763]\n",
      " [0.35020296 0.64979704]\n",
      " [0.35020296 0.64979704]]\n",
      "[[0.31789392 0.68210608]\n",
      " [0.31603768 0.68396232]\n",
      " [0.36854416 0.63145584]]\n"
     ]
    }
   ],
   "source": [
    "#  сравниваем с реализацией бустинга. ура!!! совпала\n",
    "for ypred in clf.staged_predict_proba(X_train):\n",
    "    print(ypred)"
   ]
  },
  {
   "cell_type": "markdown",
   "metadata": {},
   "source": [
    "второе дерево смотрим"
   ]
  },
  {
   "cell_type": "markdown",
   "metadata": {},
   "source": [
    "рассчитаем residuals, которые будем минимизировать вторым деревом"
   ]
  },
  {
   "cell_type": "code",
   "execution_count": 30,
   "metadata": {},
   "outputs": [
    {
     "data": {
      "text/html": [
       "<div>\n",
       "<style scoped>\n",
       "    .dataframe tbody tr th:only-of-type {\n",
       "        vertical-align: middle;\n",
       "    }\n",
       "\n",
       "    .dataframe tbody tr th {\n",
       "        vertical-align: top;\n",
       "    }\n",
       "\n",
       "    .dataframe thead th {\n",
       "        text-align: right;\n",
       "    }\n",
       "</style>\n",
       "<table border=\"1\" class=\"dataframe\">\n",
       "  <thead>\n",
       "    <tr style=\"text-align: right;\">\n",
       "      <th></th>\n",
       "      <th>Age</th>\n",
       "      <th>y</th>\n",
       "      <th>initial_prediction</th>\n",
       "      <th>output_0</th>\n",
       "      <th>residuals_0</th>\n",
       "      <th>output_1</th>\n",
       "      <th>prediction_1</th>\n",
       "      <th>residuals_1</th>\n",
       "    </tr>\n",
       "  </thead>\n",
       "  <tbody>\n",
       "    <tr>\n",
       "      <th>0</th>\n",
       "      <td>12</td>\n",
       "      <td>1</td>\n",
       "      <td>0.666667</td>\n",
       "      <td>0.693147</td>\n",
       "      <td>0.333333</td>\n",
       "      <td>1.50</td>\n",
       "      <td>0.699128</td>\n",
       "      <td>0.300872</td>\n",
       "    </tr>\n",
       "    <tr>\n",
       "      <th>1</th>\n",
       "      <td>87</td>\n",
       "      <td>1</td>\n",
       "      <td>0.666667</td>\n",
       "      <td>0.693147</td>\n",
       "      <td>0.333333</td>\n",
       "      <td>-0.75</td>\n",
       "      <td>0.649797</td>\n",
       "      <td>0.350203</td>\n",
       "    </tr>\n",
       "    <tr>\n",
       "      <th>2</th>\n",
       "      <td>44</td>\n",
       "      <td>0</td>\n",
       "      <td>0.666667</td>\n",
       "      <td>0.693147</td>\n",
       "      <td>-0.666667</td>\n",
       "      <td>-0.75</td>\n",
       "      <td>0.649797</td>\n",
       "      <td>-0.649797</td>\n",
       "    </tr>\n",
       "  </tbody>\n",
       "</table>\n",
       "</div>"
      ],
      "text/plain": [
       "   Age  y  initial_prediction  output_0  residuals_0  output_1  prediction_1  \\\n",
       "0   12  1            0.666667  0.693147     0.333333      1.50      0.699128   \n",
       "1   87  1            0.666667  0.693147     0.333333     -0.75      0.649797   \n",
       "2   44  0            0.666667  0.693147    -0.666667     -0.75      0.649797   \n",
       "\n",
       "   residuals_1  \n",
       "0     0.300872  \n",
       "1     0.350203  \n",
       "2    -0.649797  "
      ]
     },
     "execution_count": 30,
     "metadata": {},
     "output_type": "execute_result"
    }
   ],
   "source": [
    "data['residuals_1'] = data['y'] - data['prediction_1']\n",
    "\n",
    "data"
   ]
  },
  {
   "cell_type": "code",
   "execution_count": 31,
   "metadata": {},
   "outputs": [
    {
     "data": {
      "image/png": "[encoded data removed]",
      "text/plain": [
       "<IPython.core.display.Image object>"
      ]
     },
     "execution_count": 31,
     "metadata": {},
     "output_type": "execute_result"
    }
   ],
   "source": [
    "# Get the tree number 2\n",
    "sub_tree = clf.estimators_[1, 0]\n",
    "\n",
    "# Visualization\n",
    "\n",
    "dot_data = export_graphviz(\n",
    "    sub_tree,\n",
    "    out_file=None, filled=True, rounded=True,\n",
    "    special_characters=True,\n",
    "    proportion=False, impurity=False, # enable them if you want\n",
    ")\n",
    "graph = graph_from_dot_data(dot_data)\n",
    "png = graph.create_png()\n",
    "\n",
    "Path('./out_2.png').write_bytes(png)\n",
    "Image(png)"
   ]
  },
  {
   "cell_type": "code",
   "execution_count": 32,
   "metadata": {},
   "outputs": [
    {
     "data": {
      "text/html": [
       "<div>\n",
       "<style scoped>\n",
       "    .dataframe tbody tr th:only-of-type {\n",
       "        vertical-align: middle;\n",
       "    }\n",
       "\n",
       "    .dataframe tbody tr th {\n",
       "        vertical-align: top;\n",
       "    }\n",
       "\n",
       "    .dataframe thead th {\n",
       "        text-align: right;\n",
       "    }\n",
       "</style>\n",
       "<table border=\"1\" class=\"dataframe\">\n",
       "  <thead>\n",
       "    <tr style=\"text-align: right;\">\n",
       "      <th></th>\n",
       "      <th>Age</th>\n",
       "      <th>y</th>\n",
       "      <th>initial_prediction</th>\n",
       "      <th>output_0</th>\n",
       "      <th>residuals_0</th>\n",
       "      <th>output_1</th>\n",
       "      <th>prediction_1</th>\n",
       "      <th>residuals_1</th>\n",
       "    </tr>\n",
       "  </thead>\n",
       "  <tbody>\n",
       "    <tr>\n",
       "      <th>0</th>\n",
       "      <td>12</td>\n",
       "      <td>1</td>\n",
       "      <td>0.666667</td>\n",
       "      <td>0.693147</td>\n",
       "      <td>0.333333</td>\n",
       "      <td>1.50</td>\n",
       "      <td>0.699128</td>\n",
       "      <td>0.300872</td>\n",
       "    </tr>\n",
       "    <tr>\n",
       "      <th>2</th>\n",
       "      <td>44</td>\n",
       "      <td>0</td>\n",
       "      <td>0.666667</td>\n",
       "      <td>0.693147</td>\n",
       "      <td>-0.666667</td>\n",
       "      <td>-0.75</td>\n",
       "      <td>0.649797</td>\n",
       "      <td>-0.649797</td>\n",
       "    </tr>\n",
       "  </tbody>\n",
       "</table>\n",
       "</div>"
      ],
      "text/plain": [
       "   Age  y  initial_prediction  output_0  residuals_0  output_1  prediction_1  \\\n",
       "0   12  1            0.666667  0.693147     0.333333      1.50      0.699128   \n",
       "2   44  0            0.666667  0.693147    -0.666667     -0.75      0.649797   \n",
       "\n",
       "   residuals_1  \n",
       "0     0.300872  \n",
       "2    -0.649797  "
      ]
     },
     "execution_count": 32,
     "metadata": {},
     "output_type": "execute_result"
    }
   ],
   "source": [
    "# влево идут\n",
    "mask = (data['Age']<65.5)\n",
    "data[mask]\n"
   ]
  },
  {
   "cell_type": "code",
   "execution_count": 33,
   "metadata": {},
   "outputs": [
    {
     "data": {
      "text/html": [
       "<div>\n",
       "<style scoped>\n",
       "    .dataframe tbody tr th:only-of-type {\n",
       "        vertical-align: middle;\n",
       "    }\n",
       "\n",
       "    .dataframe tbody tr th {\n",
       "        vertical-align: top;\n",
       "    }\n",
       "\n",
       "    .dataframe thead th {\n",
       "        text-align: right;\n",
       "    }\n",
       "</style>\n",
       "<table border=\"1\" class=\"dataframe\">\n",
       "  <thead>\n",
       "    <tr style=\"text-align: right;\">\n",
       "      <th></th>\n",
       "      <th>Age</th>\n",
       "      <th>y</th>\n",
       "      <th>initial_prediction</th>\n",
       "      <th>output_0</th>\n",
       "      <th>residuals_0</th>\n",
       "      <th>output_1</th>\n",
       "      <th>prediction_1</th>\n",
       "      <th>residuals_1</th>\n",
       "      <th>output_2</th>\n",
       "    </tr>\n",
       "  </thead>\n",
       "  <tbody>\n",
       "    <tr>\n",
       "      <th>0</th>\n",
       "      <td>12</td>\n",
       "      <td>1</td>\n",
       "      <td>0.666667</td>\n",
       "      <td>0.693147</td>\n",
       "      <td>0.333333</td>\n",
       "      <td>1.50</td>\n",
       "      <td>0.699128</td>\n",
       "      <td>0.300872</td>\n",
       "      <td>-0.796797</td>\n",
       "    </tr>\n",
       "    <tr>\n",
       "      <th>1</th>\n",
       "      <td>87</td>\n",
       "      <td>1</td>\n",
       "      <td>0.666667</td>\n",
       "      <td>0.693147</td>\n",
       "      <td>0.333333</td>\n",
       "      <td>-0.75</td>\n",
       "      <td>0.649797</td>\n",
       "      <td>0.350203</td>\n",
       "      <td>NaN</td>\n",
       "    </tr>\n",
       "    <tr>\n",
       "      <th>2</th>\n",
       "      <td>44</td>\n",
       "      <td>0</td>\n",
       "      <td>0.666667</td>\n",
       "      <td>0.693147</td>\n",
       "      <td>-0.666667</td>\n",
       "      <td>-0.75</td>\n",
       "      <td>0.649797</td>\n",
       "      <td>-0.649797</td>\n",
       "      <td>-0.796797</td>\n",
       "    </tr>\n",
       "  </tbody>\n",
       "</table>\n",
       "</div>"
      ],
      "text/plain": [
       "   Age  y  initial_prediction  output_0  residuals_0  output_1  prediction_1  \\\n",
       "0   12  1            0.666667  0.693147     0.333333      1.50      0.699128   \n",
       "1   87  1            0.666667  0.693147     0.333333     -0.75      0.649797   \n",
       "2   44  0            0.666667  0.693147    -0.666667     -0.75      0.649797   \n",
       "\n",
       "   residuals_1  output_2  \n",
       "0     0.300872 -0.796797  \n",
       "1     0.350203       NaN  \n",
       "2    -0.649797 -0.796797  "
      ]
     },
     "execution_count": 33,
     "metadata": {},
     "output_type": "execute_result"
    }
   ],
   "source": [
    "# как посчитать output value для второго узла\n",
    "mask = (data['Age']<65.5)\n",
    "data[mask]\n",
    "data.loc[mask, 'output_2'] =  data.loc[mask, 'residuals_1'].sum()/((data.loc[mask, 'prediction_1']*(1-data.loc[mask, 'prediction_1'])).sum())\n",
    "data"
   ]
  },
  {
   "cell_type": "code",
   "execution_count": 34,
   "metadata": {},
   "outputs": [
    {
     "data": {
      "text/html": [
       "<div>\n",
       "<style scoped>\n",
       "    .dataframe tbody tr th:only-of-type {\n",
       "        vertical-align: middle;\n",
       "    }\n",
       "\n",
       "    .dataframe tbody tr th {\n",
       "        vertical-align: top;\n",
       "    }\n",
       "\n",
       "    .dataframe thead th {\n",
       "        text-align: right;\n",
       "    }\n",
       "</style>\n",
       "<table border=\"1\" class=\"dataframe\">\n",
       "  <thead>\n",
       "    <tr style=\"text-align: right;\">\n",
       "      <th></th>\n",
       "      <th>Age</th>\n",
       "      <th>y</th>\n",
       "      <th>initial_prediction</th>\n",
       "      <th>output_0</th>\n",
       "      <th>residuals_0</th>\n",
       "      <th>output_1</th>\n",
       "      <th>prediction_1</th>\n",
       "      <th>residuals_1</th>\n",
       "      <th>output_2</th>\n",
       "    </tr>\n",
       "  </thead>\n",
       "  <tbody>\n",
       "    <tr>\n",
       "      <th>0</th>\n",
       "      <td>12</td>\n",
       "      <td>1</td>\n",
       "      <td>0.666667</td>\n",
       "      <td>0.693147</td>\n",
       "      <td>0.333333</td>\n",
       "      <td>1.50</td>\n",
       "      <td>0.699128</td>\n",
       "      <td>0.300872</td>\n",
       "      <td>-0.796797</td>\n",
       "    </tr>\n",
       "    <tr>\n",
       "      <th>1</th>\n",
       "      <td>87</td>\n",
       "      <td>1</td>\n",
       "      <td>0.666667</td>\n",
       "      <td>0.693147</td>\n",
       "      <td>0.333333</td>\n",
       "      <td>-0.75</td>\n",
       "      <td>0.649797</td>\n",
       "      <td>0.350203</td>\n",
       "      <td>1.538942</td>\n",
       "    </tr>\n",
       "    <tr>\n",
       "      <th>2</th>\n",
       "      <td>44</td>\n",
       "      <td>0</td>\n",
       "      <td>0.666667</td>\n",
       "      <td>0.693147</td>\n",
       "      <td>-0.666667</td>\n",
       "      <td>-0.75</td>\n",
       "      <td>0.649797</td>\n",
       "      <td>-0.649797</td>\n",
       "      <td>-0.796797</td>\n",
       "    </tr>\n",
       "  </tbody>\n",
       "</table>\n",
       "</div>"
      ],
      "text/plain": [
       "   Age  y  initial_prediction  output_0  residuals_0  output_1  prediction_1  \\\n",
       "0   12  1            0.666667  0.693147     0.333333      1.50      0.699128   \n",
       "1   87  1            0.666667  0.693147     0.333333     -0.75      0.649797   \n",
       "2   44  0            0.666667  0.693147    -0.666667     -0.75      0.649797   \n",
       "\n",
       "   residuals_1  output_2  \n",
       "0     0.300872 -0.796797  \n",
       "1     0.350203  1.538942  \n",
       "2    -0.649797 -0.796797  "
      ]
     },
     "execution_count": 34,
     "metadata": {},
     "output_type": "execute_result"
    }
   ],
   "source": [
    "# как посчитать output value для второго узла \n",
    "mask = (data['Age']>65.5)\n",
    "data[mask]\n",
    "data.loc[mask, 'output_2'] =  data.loc[mask, 'residuals_1'].sum()/((data.loc[mask, 'prediction_1']*(1-data.loc[mask, 'prediction_1'])).sum())\n",
    "data"
   ]
  },
  {
   "cell_type": "markdown",
   "metadata": {},
   "source": [
    "теперь расчитаем на вероятность"
   ]
  },
  {
   "cell_type": "code",
   "execution_count": 35,
   "metadata": {},
   "outputs": [
    {
     "data": {
      "text/html": [
       "<div>\n",
       "<style scoped>\n",
       "    .dataframe tbody tr th:only-of-type {\n",
       "        vertical-align: middle;\n",
       "    }\n",
       "\n",
       "    .dataframe tbody tr th {\n",
       "        vertical-align: top;\n",
       "    }\n",
       "\n",
       "    .dataframe thead th {\n",
       "        text-align: right;\n",
       "    }\n",
       "</style>\n",
       "<table border=\"1\" class=\"dataframe\">\n",
       "  <thead>\n",
       "    <tr style=\"text-align: right;\">\n",
       "      <th></th>\n",
       "      <th>Age</th>\n",
       "      <th>y</th>\n",
       "      <th>initial_prediction</th>\n",
       "      <th>output_0</th>\n",
       "      <th>residuals_0</th>\n",
       "      <th>output_1</th>\n",
       "      <th>prediction_1</th>\n",
       "      <th>residuals_1</th>\n",
       "      <th>output_2</th>\n",
       "      <th>prediction_2</th>\n",
       "    </tr>\n",
       "  </thead>\n",
       "  <tbody>\n",
       "    <tr>\n",
       "      <th>0</th>\n",
       "      <td>12</td>\n",
       "      <td>1</td>\n",
       "      <td>0.666667</td>\n",
       "      <td>0.693147</td>\n",
       "      <td>0.333333</td>\n",
       "      <td>1.50</td>\n",
       "      <td>0.699128</td>\n",
       "      <td>0.300872</td>\n",
       "      <td>-0.796797</td>\n",
       "      <td>0.682106</td>\n",
       "    </tr>\n",
       "    <tr>\n",
       "      <th>1</th>\n",
       "      <td>87</td>\n",
       "      <td>1</td>\n",
       "      <td>0.666667</td>\n",
       "      <td>0.693147</td>\n",
       "      <td>0.333333</td>\n",
       "      <td>-0.75</td>\n",
       "      <td>0.649797</td>\n",
       "      <td>0.350203</td>\n",
       "      <td>1.538942</td>\n",
       "      <td>0.683962</td>\n",
       "    </tr>\n",
       "    <tr>\n",
       "      <th>2</th>\n",
       "      <td>44</td>\n",
       "      <td>0</td>\n",
       "      <td>0.666667</td>\n",
       "      <td>0.693147</td>\n",
       "      <td>-0.666667</td>\n",
       "      <td>-0.75</td>\n",
       "      <td>0.649797</td>\n",
       "      <td>-0.649797</td>\n",
       "      <td>-0.796797</td>\n",
       "      <td>0.631456</td>\n",
       "    </tr>\n",
       "  </tbody>\n",
       "</table>\n",
       "</div>"
      ],
      "text/plain": [
       "   Age  y  initial_prediction  output_0  residuals_0  output_1  prediction_1  \\\n",
       "0   12  1            0.666667  0.693147     0.333333      1.50      0.699128   \n",
       "1   87  1            0.666667  0.693147     0.333333     -0.75      0.649797   \n",
       "2   44  0            0.666667  0.693147    -0.666667     -0.75      0.649797   \n",
       "\n",
       "   residuals_1  output_2  prediction_2  \n",
       "0     0.300872 -0.796797      0.682106  \n",
       "1     0.350203  1.538942      0.683962  \n",
       "2    -0.649797 -0.796797      0.631456  "
      ]
     },
     "execution_count": 35,
     "metadata": {},
     "output_type": "execute_result"
    }
   ],
   "source": [
    "output_total = data['output_0'] + learning_rate*data['output_1'] + learning_rate*data['output_2']\n",
    "data['prediction_2'] = 1/(1+np.exp(-output_total))\n",
    "data"
   ]
  },
  {
   "cell_type": "code",
   "execution_count": 36,
   "metadata": {},
   "outputs": [
    {
     "name": "stdout",
     "output_type": "stream",
     "text": [
      "[[0.30087237 0.69912763]\n",
      " [0.35020296 0.64979704]\n",
      " [0.35020296 0.64979704]]\n",
      "[[0.31789392 0.68210608]\n",
      " [0.31603768 0.68396232]\n",
      " [0.36854416 0.63145584]]\n"
     ]
    }
   ],
   "source": [
    "#  сравниваем с реализацией бустинга. ура!!! совпала\n",
    "for ypred in clf.staged_predict_proba(X_train):\n",
    "    print(ypred)"
   ]
  },
  {
   "cell_type": "code",
   "execution_count": 37,
   "metadata": {},
   "outputs": [
    {
     "data": {
      "text/plain": [
       "array([[0.31789392, 0.68210608],\n",
       "       [0.31603768, 0.68396232],\n",
       "       [0.36854416, 0.63145584]])"
      ]
     },
     "execution_count": 37,
     "metadata": {},
     "output_type": "execute_result"
    }
   ],
   "source": [
    "#  получили аналогичный результат как и prediction_2\n",
    "clf.predict_proba(X_train)"
   ]
  },
  {
   "cell_type": "markdown",
   "metadata": {},
   "source": [
    "initial = 'zero' значает что у всех будет вероятность 0.5 вне зависимости от долей начальных\n",
    "то же совпадаем"
   ]
  },
  {
   "cell_type": "code",
   "execution_count": 40,
   "metadata": {},
   "outputs": [
    {
     "data": {
      "text/plain": [
       "array([1, 0, 0], dtype=int64)"
      ]
     },
     "execution_count": 40,
     "metadata": {},
     "output_type": "execute_result"
    }
   ],
   "source": [
    "clf = GradientBoostingClassifier(n_estimators=1, learning_rate=1.0, max_depth=1, random_state=0, init='zero').fit(X_train, y)\n",
    "clf.predict(X_train)\n"
   ]
  },
  {
   "cell_type": "markdown",
   "metadata": {},
   "source": []
  }
 ],
 "metadata": {
  "kernelspec": {
   "display_name": "base",
   "language": "python",
   "name": "python3"
  },
  "language_info": {
   "codemirror_mode": {
    "name": "ipython",
    "version": 3
   },
   "file_extension": ".py",
   "mimetype": "text/x-python",
   "name": "python",
   "nbconvert_exporter": "python",
   "pygments_lexer": "ipython3",
   "version": "3.9.16"
  }
 },
 "nbformat": 4,
 "nbformat_minor": 2
}
