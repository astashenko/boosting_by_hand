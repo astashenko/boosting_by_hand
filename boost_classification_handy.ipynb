{
 "cells": [
  {
   "cell_type": "markdown",
   "metadata": {},
   "source": [
    "## GradientBoostingClassifier\n",
    "в качестве примера самый простой dataset из 3 строк и дерево будет не max_depth=2"
   ]
  },
  {
   "cell_type": "code",
   "execution_count": 1,
   "metadata": {},
   "outputs": [],
   "source": [
    "import pandas as pd \n",
    "import numpy as np\n",
    "\n",
    "from sklearn.ensemble import GradientBoostingClassifier\n",
    "from sklearn.tree import export_graphviz\n",
    "\n",
    "from pathlib import Path\n",
    "from pydotplus import graph_from_dot_data\n",
    "from IPython.display import Image"
   ]
  },
  {
   "cell_type": "code",
   "execution_count": 2,
   "metadata": {},
   "outputs": [
    {
     "data": {
      "text/html": [
       "<div>\n",
       "<style scoped>\n",
       "    .dataframe tbody tr th:only-of-type {\n",
       "        vertical-align: middle;\n",
       "    }\n",
       "\n",
       "    .dataframe tbody tr th {\n",
       "        vertical-align: top;\n",
       "    }\n",
       "\n",
       "    .dataframe thead th {\n",
       "        text-align: right;\n",
       "    }\n",
       "</style>\n",
       "<table border=\"1\" class=\"dataframe\">\n",
       "  <thead>\n",
       "    <tr style=\"text-align: right;\">\n",
       "      <th></th>\n",
       "      <th>Age</th>\n",
       "      <th>y</th>\n",
       "    </tr>\n",
       "  </thead>\n",
       "  <tbody>\n",
       "    <tr>\n",
       "      <th>0</th>\n",
       "      <td>12</td>\n",
       "      <td>1</td>\n",
       "    </tr>\n",
       "    <tr>\n",
       "      <th>1</th>\n",
       "      <td>87</td>\n",
       "      <td>1</td>\n",
       "    </tr>\n",
       "    <tr>\n",
       "      <th>2</th>\n",
       "      <td>44</td>\n",
       "      <td>0</td>\n",
       "    </tr>\n",
       "    <tr>\n",
       "      <th>3</th>\n",
       "      <td>56</td>\n",
       "      <td>0</td>\n",
       "    </tr>\n",
       "    <tr>\n",
       "      <th>4</th>\n",
       "      <td>24</td>\n",
       "      <td>1</td>\n",
       "    </tr>\n",
       "  </tbody>\n",
       "</table>\n",
       "</div>"
      ],
      "text/plain": [
       "   Age  y\n",
       "0   12  1\n",
       "1   87  1\n",
       "2   44  0\n",
       "3   56  0\n",
       "4   24  1"
      ]
     },
     "execution_count": 2,
     "metadata": {},
     "output_type": "execute_result"
    }
   ],
   "source": [
    "data = pd.DataFrame(data={'Age':[12, 87, 44, 56, 24], 'y':[1, 1, 0, 0, 1]}, columns=['Age', 'y'])\n",
    "y = data['y']\n",
    "\n",
    "\n",
    "X_train = data[['Age']]\n",
    "data"
   ]
  },
  {
   "cell_type": "code",
   "execution_count": 3,
   "metadata": {},
   "outputs": [],
   "source": [
    "# Visualization \n",
    "def plot_tree(estimator):\n",
    "    # Get the tree number 1\n",
    "    sub_tree = clf.estimators_[estimator, 0]\n",
    "\n",
    "    dot_data = export_graphviz(\n",
    "        sub_tree,\n",
    "        out_file=None, filled=True, rounded=True,\n",
    "        special_characters=True,\n",
    "        proportion=False, impurity=False, # enable them if you want\n",
    "    )\n",
    "    graph = graph_from_dot_data(dot_data)\n",
    "    png = graph.create_png()\n",
    "\n",
    "    Path(f'./out_{estimator+1}.png').write_bytes(png)\n",
    "    return Image(png)"
   ]
  },
  {
   "cell_type": "markdown",
   "metadata": {},
   "source": [
    "#### Типовая функция GradientBoostingClassifier "
   ]
  },
  {
   "cell_type": "code",
   "execution_count": 4,
   "metadata": {},
   "outputs": [
    {
     "data": {
      "text/plain": [
       "array([1, 1, 0, 0, 1], dtype=int64)"
      ]
     },
     "execution_count": 4,
     "metadata": {},
     "output_type": "execute_result"
    }
   ],
   "source": [
    "learning_rate=0.1\n",
    "clf = GradientBoostingClassifier(n_estimators=2, learning_rate=learning_rate, max_depth=2, random_state=0).fit(X_train, y)\n",
    "clf.predict(X_train)\n"
   ]
  },
  {
   "cell_type": "markdown",
   "metadata": {},
   "source": [
    "output values считаются в переменных $log(odds)= log(\\frac{p}{1-p})$\n",
    "\n",
    "prediction будет в вероятностях probability\n",
    "$prediction = \\frac{1}{1-exp^{-log(odds)}}$\n"
   ]
  },
  {
   "cell_type": "markdown",
   "metadata": {},
   "source": [
    "initial prediction $p$- это вероятность начальная, а output мерится в $log(odds)$ \n",
    "\n",
    "если использовать параметр initial = 'zero' значает что у всех будет вероятность 0.5 вне зависимости от долей начальных,\n",
    "иначе средняя по тренировочному dataset\n"
   ]
  },
  {
   "cell_type": "code",
   "execution_count": 5,
   "metadata": {},
   "outputs": [
    {
     "data": {
      "text/html": [
       "<div>\n",
       "<style scoped>\n",
       "    .dataframe tbody tr th:only-of-type {\n",
       "        vertical-align: middle;\n",
       "    }\n",
       "\n",
       "    .dataframe tbody tr th {\n",
       "        vertical-align: top;\n",
       "    }\n",
       "\n",
       "    .dataframe thead th {\n",
       "        text-align: right;\n",
       "    }\n",
       "</style>\n",
       "<table border=\"1\" class=\"dataframe\">\n",
       "  <thead>\n",
       "    <tr style=\"text-align: right;\">\n",
       "      <th></th>\n",
       "      <th>Age</th>\n",
       "      <th>y</th>\n",
       "      <th>initial_prediction</th>\n",
       "      <th>output_0</th>\n",
       "      <th>residuals_0</th>\n",
       "    </tr>\n",
       "  </thead>\n",
       "  <tbody>\n",
       "    <tr>\n",
       "      <th>0</th>\n",
       "      <td>12</td>\n",
       "      <td>1</td>\n",
       "      <td>0.6</td>\n",
       "      <td>0.405465</td>\n",
       "      <td>0.4</td>\n",
       "    </tr>\n",
       "    <tr>\n",
       "      <th>1</th>\n",
       "      <td>87</td>\n",
       "      <td>1</td>\n",
       "      <td>0.6</td>\n",
       "      <td>0.405465</td>\n",
       "      <td>0.4</td>\n",
       "    </tr>\n",
       "    <tr>\n",
       "      <th>2</th>\n",
       "      <td>44</td>\n",
       "      <td>0</td>\n",
       "      <td>0.6</td>\n",
       "      <td>0.405465</td>\n",
       "      <td>-0.6</td>\n",
       "    </tr>\n",
       "    <tr>\n",
       "      <th>3</th>\n",
       "      <td>56</td>\n",
       "      <td>0</td>\n",
       "      <td>0.6</td>\n",
       "      <td>0.405465</td>\n",
       "      <td>-0.6</td>\n",
       "    </tr>\n",
       "    <tr>\n",
       "      <th>4</th>\n",
       "      <td>24</td>\n",
       "      <td>1</td>\n",
       "      <td>0.6</td>\n",
       "      <td>0.405465</td>\n",
       "      <td>0.4</td>\n",
       "    </tr>\n",
       "  </tbody>\n",
       "</table>\n",
       "</div>"
      ],
      "text/plain": [
       "   Age  y  initial_prediction  output_0  residuals_0\n",
       "0   12  1                 0.6  0.405465          0.4\n",
       "1   87  1                 0.6  0.405465          0.4\n",
       "2   44  0                 0.6  0.405465         -0.6\n",
       "3   56  0                 0.6  0.405465         -0.6\n",
       "4   24  1                 0.6  0.405465          0.4"
      ]
     },
     "execution_count": 5,
     "metadata": {},
     "output_type": "execute_result"
    }
   ],
   "source": [
    "initial_prediction = y.mean() # 3/5\n",
    "\n",
    "data['initial_prediction'] = initial_prediction\n",
    "data['output_0'] = np.log(initial_prediction/(1-initial_prediction))\n",
    "data['residuals_0'] = data['y'] - initial_prediction\n",
    "\n",
    "data\n"
   ]
  },
  {
   "cell_type": "markdown",
   "metadata": {},
   "source": [
    "первое дерево, которое делает predict residuals_0"
   ]
  },
  {
   "cell_type": "code",
   "execution_count": 6,
   "metadata": {},
   "outputs": [
    {
     "data": {
      "image/png": "[encoded data removed]",
      "text/plain": [
       "<IPython.core.display.Image object>"
      ]
     },
     "execution_count": 6,
     "metadata": {},
     "output_type": "execute_result"
    }
   ],
   "source": [
    "plot_tree(0)"
   ]
  },
  {
   "cell_type": "markdown",
   "metadata": {},
   "source": [
    "теперь посчитаем output values сами"
   ]
  },
  {
   "cell_type": "code",
   "execution_count": 7,
   "metadata": {},
   "outputs": [
    {
     "data": {
      "text/html": [
       "<div>\n",
       "<style scoped>\n",
       "    .dataframe tbody tr th:only-of-type {\n",
       "        vertical-align: middle;\n",
       "    }\n",
       "\n",
       "    .dataframe tbody tr th {\n",
       "        vertical-align: top;\n",
       "    }\n",
       "\n",
       "    .dataframe thead th {\n",
       "        text-align: right;\n",
       "    }\n",
       "</style>\n",
       "<table border=\"1\" class=\"dataframe\">\n",
       "  <thead>\n",
       "    <tr style=\"text-align: right;\">\n",
       "      <th></th>\n",
       "      <th>Age</th>\n",
       "      <th>y</th>\n",
       "      <th>initial_prediction</th>\n",
       "      <th>output_0</th>\n",
       "      <th>residuals_0</th>\n",
       "    </tr>\n",
       "  </thead>\n",
       "  <tbody>\n",
       "    <tr>\n",
       "      <th>0</th>\n",
       "      <td>12</td>\n",
       "      <td>1</td>\n",
       "      <td>0.6</td>\n",
       "      <td>0.405465</td>\n",
       "      <td>0.4</td>\n",
       "    </tr>\n",
       "    <tr>\n",
       "      <th>4</th>\n",
       "      <td>24</td>\n",
       "      <td>1</td>\n",
       "      <td>0.6</td>\n",
       "      <td>0.405465</td>\n",
       "      <td>0.4</td>\n",
       "    </tr>\n",
       "  </tbody>\n",
       "</table>\n",
       "</div>"
      ],
      "text/plain": [
       "   Age  y  initial_prediction  output_0  residuals_0\n",
       "0   12  1                 0.6  0.405465          0.4\n",
       "4   24  1                 0.6  0.405465          0.4"
      ]
     },
     "execution_count": 7,
     "metadata": {},
     "output_type": "execute_result"
    }
   ],
   "source": [
    "# влево идут\n",
    "mask = (data['Age']<=34)\n",
    "data[mask]\n"
   ]
  },
  {
   "cell_type": "markdown",
   "metadata": {},
   "source": [
    "output в ячейке (суммирование по количеству samples  в листе)   \n",
    "Residuals - residuals которые попали в лист  \n",
    "p_{previous,i} - предыдущая вероятность на прошлом дереве у строки, которая попала в лист  \n",
    "\n",
    "output = $\\frac{\\sum_i{Residuals}}{\\sum{[p_{previous,i}*(1-p_{previous})]}}$\n"
   ]
  },
  {
   "cell_type": "markdown",
   "metadata": {},
   "source": [
    "## output = $\\frac{\\sum_i{Residuals}}{\\sum_i{[p_{previous,i}*(1-p_{previous, i})]}}$"
   ]
  },
  {
   "cell_type": "code",
   "execution_count": 8,
   "metadata": {},
   "outputs": [
    {
     "data": {
      "text/html": [
       "<div>\n",
       "<style scoped>\n",
       "    .dataframe tbody tr th:only-of-type {\n",
       "        vertical-align: middle;\n",
       "    }\n",
       "\n",
       "    .dataframe tbody tr th {\n",
       "        vertical-align: top;\n",
       "    }\n",
       "\n",
       "    .dataframe thead th {\n",
       "        text-align: right;\n",
       "    }\n",
       "</style>\n",
       "<table border=\"1\" class=\"dataframe\">\n",
       "  <thead>\n",
       "    <tr style=\"text-align: right;\">\n",
       "      <th></th>\n",
       "      <th>Age</th>\n",
       "      <th>y</th>\n",
       "      <th>initial_prediction</th>\n",
       "      <th>output_0</th>\n",
       "      <th>residuals_0</th>\n",
       "      <th>output_1</th>\n",
       "    </tr>\n",
       "  </thead>\n",
       "  <tbody>\n",
       "    <tr>\n",
       "      <th>0</th>\n",
       "      <td>12</td>\n",
       "      <td>1</td>\n",
       "      <td>0.6</td>\n",
       "      <td>0.405465</td>\n",
       "      <td>0.4</td>\n",
       "      <td>1.666667</td>\n",
       "    </tr>\n",
       "    <tr>\n",
       "      <th>1</th>\n",
       "      <td>87</td>\n",
       "      <td>1</td>\n",
       "      <td>0.6</td>\n",
       "      <td>0.405465</td>\n",
       "      <td>0.4</td>\n",
       "      <td>NaN</td>\n",
       "    </tr>\n",
       "    <tr>\n",
       "      <th>2</th>\n",
       "      <td>44</td>\n",
       "      <td>0</td>\n",
       "      <td>0.6</td>\n",
       "      <td>0.405465</td>\n",
       "      <td>-0.6</td>\n",
       "      <td>NaN</td>\n",
       "    </tr>\n",
       "    <tr>\n",
       "      <th>3</th>\n",
       "      <td>56</td>\n",
       "      <td>0</td>\n",
       "      <td>0.6</td>\n",
       "      <td>0.405465</td>\n",
       "      <td>-0.6</td>\n",
       "      <td>NaN</td>\n",
       "    </tr>\n",
       "    <tr>\n",
       "      <th>4</th>\n",
       "      <td>24</td>\n",
       "      <td>1</td>\n",
       "      <td>0.6</td>\n",
       "      <td>0.405465</td>\n",
       "      <td>0.4</td>\n",
       "      <td>1.666667</td>\n",
       "    </tr>\n",
       "  </tbody>\n",
       "</table>\n",
       "</div>"
      ],
      "text/plain": [
       "   Age  y  initial_prediction  output_0  residuals_0  output_1\n",
       "0   12  1                 0.6  0.405465          0.4  1.666667\n",
       "1   87  1                 0.6  0.405465          0.4       NaN\n",
       "2   44  0                 0.6  0.405465         -0.6       NaN\n",
       "3   56  0                 0.6  0.405465         -0.6       NaN\n",
       "4   24  1                 0.6  0.405465          0.4  1.666667"
      ]
     },
     "execution_count": 8,
     "metadata": {},
     "output_type": "execute_result"
    }
   ],
   "source": [
    "# как посчитать output value для  узла \n",
    "mask = (data['Age']<=34)\n",
    "data.loc[mask, 'output_1'] =  data.loc[mask, 'residuals_0'].sum()/(data.loc[mask, 'initial_prediction']*(1-data.loc[mask, 'initial_prediction']).sum())\n",
    "data"
   ]
  },
  {
   "cell_type": "code",
   "execution_count": 9,
   "metadata": {},
   "outputs": [
    {
     "data": {
      "text/html": [
       "<div>\n",
       "<style scoped>\n",
       "    .dataframe tbody tr th:only-of-type {\n",
       "        vertical-align: middle;\n",
       "    }\n",
       "\n",
       "    .dataframe tbody tr th {\n",
       "        vertical-align: top;\n",
       "    }\n",
       "\n",
       "    .dataframe thead th {\n",
       "        text-align: right;\n",
       "    }\n",
       "</style>\n",
       "<table border=\"1\" class=\"dataframe\">\n",
       "  <thead>\n",
       "    <tr style=\"text-align: right;\">\n",
       "      <th></th>\n",
       "      <th>Age</th>\n",
       "      <th>y</th>\n",
       "      <th>initial_prediction</th>\n",
       "      <th>output_0</th>\n",
       "      <th>residuals_0</th>\n",
       "      <th>output_1</th>\n",
       "    </tr>\n",
       "  </thead>\n",
       "  <tbody>\n",
       "    <tr>\n",
       "      <th>0</th>\n",
       "      <td>12</td>\n",
       "      <td>1</td>\n",
       "      <td>0.6</td>\n",
       "      <td>0.405465</td>\n",
       "      <td>0.4</td>\n",
       "      <td>1.666667</td>\n",
       "    </tr>\n",
       "    <tr>\n",
       "      <th>1</th>\n",
       "      <td>87</td>\n",
       "      <td>1</td>\n",
       "      <td>0.6</td>\n",
       "      <td>0.405465</td>\n",
       "      <td>0.4</td>\n",
       "      <td>1.666667</td>\n",
       "    </tr>\n",
       "    <tr>\n",
       "      <th>2</th>\n",
       "      <td>44</td>\n",
       "      <td>0</td>\n",
       "      <td>0.6</td>\n",
       "      <td>0.405465</td>\n",
       "      <td>-0.6</td>\n",
       "      <td>NaN</td>\n",
       "    </tr>\n",
       "    <tr>\n",
       "      <th>3</th>\n",
       "      <td>56</td>\n",
       "      <td>0</td>\n",
       "      <td>0.6</td>\n",
       "      <td>0.405465</td>\n",
       "      <td>-0.6</td>\n",
       "      <td>NaN</td>\n",
       "    </tr>\n",
       "    <tr>\n",
       "      <th>4</th>\n",
       "      <td>24</td>\n",
       "      <td>1</td>\n",
       "      <td>0.6</td>\n",
       "      <td>0.405465</td>\n",
       "      <td>0.4</td>\n",
       "      <td>1.666667</td>\n",
       "    </tr>\n",
       "  </tbody>\n",
       "</table>\n",
       "</div>"
      ],
      "text/plain": [
       "   Age  y  initial_prediction  output_0  residuals_0  output_1\n",
       "0   12  1                 0.6  0.405465          0.4  1.666667\n",
       "1   87  1                 0.6  0.405465          0.4  1.666667\n",
       "2   44  0                 0.6  0.405465         -0.6       NaN\n",
       "3   56  0                 0.6  0.405465         -0.6       NaN\n",
       "4   24  1                 0.6  0.405465          0.4  1.666667"
      ]
     },
     "execution_count": 9,
     "metadata": {},
     "output_type": "execute_result"
    }
   ],
   "source": [
    "# как посчитать output value для  узла \n",
    "mask = (data['Age']>=71.5)\n",
    "data.loc[mask, 'output_1'] =  data.loc[mask, 'residuals_0'].sum()/(data.loc[mask, 'initial_prediction']*(1-data.loc[mask, 'initial_prediction']).sum())\n",
    "data"
   ]
  },
  {
   "cell_type": "code",
   "execution_count": 10,
   "metadata": {},
   "outputs": [
    {
     "data": {
      "text/html": [
       "<div>\n",
       "<style scoped>\n",
       "    .dataframe tbody tr th:only-of-type {\n",
       "        vertical-align: middle;\n",
       "    }\n",
       "\n",
       "    .dataframe tbody tr th {\n",
       "        vertical-align: top;\n",
       "    }\n",
       "\n",
       "    .dataframe thead th {\n",
       "        text-align: right;\n",
       "    }\n",
       "</style>\n",
       "<table border=\"1\" class=\"dataframe\">\n",
       "  <thead>\n",
       "    <tr style=\"text-align: right;\">\n",
       "      <th></th>\n",
       "      <th>Age</th>\n",
       "      <th>y</th>\n",
       "      <th>initial_prediction</th>\n",
       "      <th>output_0</th>\n",
       "      <th>residuals_0</th>\n",
       "      <th>output_1</th>\n",
       "    </tr>\n",
       "  </thead>\n",
       "  <tbody>\n",
       "    <tr>\n",
       "      <th>0</th>\n",
       "      <td>12</td>\n",
       "      <td>1</td>\n",
       "      <td>0.6</td>\n",
       "      <td>0.405465</td>\n",
       "      <td>0.4</td>\n",
       "      <td>1.666667</td>\n",
       "    </tr>\n",
       "    <tr>\n",
       "      <th>1</th>\n",
       "      <td>87</td>\n",
       "      <td>1</td>\n",
       "      <td>0.6</td>\n",
       "      <td>0.405465</td>\n",
       "      <td>0.4</td>\n",
       "      <td>1.666667</td>\n",
       "    </tr>\n",
       "    <tr>\n",
       "      <th>2</th>\n",
       "      <td>44</td>\n",
       "      <td>0</td>\n",
       "      <td>0.6</td>\n",
       "      <td>0.405465</td>\n",
       "      <td>-0.6</td>\n",
       "      <td>-2.500000</td>\n",
       "    </tr>\n",
       "    <tr>\n",
       "      <th>3</th>\n",
       "      <td>56</td>\n",
       "      <td>0</td>\n",
       "      <td>0.6</td>\n",
       "      <td>0.405465</td>\n",
       "      <td>-0.6</td>\n",
       "      <td>-2.500000</td>\n",
       "    </tr>\n",
       "    <tr>\n",
       "      <th>4</th>\n",
       "      <td>24</td>\n",
       "      <td>1</td>\n",
       "      <td>0.6</td>\n",
       "      <td>0.405465</td>\n",
       "      <td>0.4</td>\n",
       "      <td>1.666667</td>\n",
       "    </tr>\n",
       "  </tbody>\n",
       "</table>\n",
       "</div>"
      ],
      "text/plain": [
       "   Age  y  initial_prediction  output_0  residuals_0  output_1\n",
       "0   12  1                 0.6  0.405465          0.4  1.666667\n",
       "1   87  1                 0.6  0.405465          0.4  1.666667\n",
       "2   44  0                 0.6  0.405465         -0.6 -2.500000\n",
       "3   56  0                 0.6  0.405465         -0.6 -2.500000\n",
       "4   24  1                 0.6  0.405465          0.4  1.666667"
      ]
     },
     "execution_count": 10,
     "metadata": {},
     "output_type": "execute_result"
    }
   ],
   "source": [
    "# как посчитать output value для  узла \n",
    "mask = (data['Age']<=71.5)&((data['Age']>34))\n",
    "data.loc[mask, 'output_1'] =  data.loc[mask, 'residuals_0'].sum()/(data.loc[mask, 'initial_prediction']*(1-data.loc[mask, 'initial_prediction']).sum())\n",
    "data"
   ]
  },
  {
   "cell_type": "markdown",
   "metadata": {},
   "source": [
    "теперь расчитаем на вероятность"
   ]
  },
  {
   "cell_type": "code",
   "execution_count": 11,
   "metadata": {},
   "outputs": [
    {
     "data": {
      "text/html": [
       "<div>\n",
       "<style scoped>\n",
       "    .dataframe tbody tr th:only-of-type {\n",
       "        vertical-align: middle;\n",
       "    }\n",
       "\n",
       "    .dataframe tbody tr th {\n",
       "        vertical-align: top;\n",
       "    }\n",
       "\n",
       "    .dataframe thead th {\n",
       "        text-align: right;\n",
       "    }\n",
       "</style>\n",
       "<table border=\"1\" class=\"dataframe\">\n",
       "  <thead>\n",
       "    <tr style=\"text-align: right;\">\n",
       "      <th></th>\n",
       "      <th>Age</th>\n",
       "      <th>y</th>\n",
       "      <th>initial_prediction</th>\n",
       "      <th>output_0</th>\n",
       "      <th>residuals_0</th>\n",
       "      <th>output_1</th>\n",
       "      <th>prediction_1</th>\n",
       "    </tr>\n",
       "  </thead>\n",
       "  <tbody>\n",
       "    <tr>\n",
       "      <th>0</th>\n",
       "      <td>12</td>\n",
       "      <td>1</td>\n",
       "      <td>0.6</td>\n",
       "      <td>0.405465</td>\n",
       "      <td>0.4</td>\n",
       "      <td>1.666667</td>\n",
       "      <td>0.639255</td>\n",
       "    </tr>\n",
       "    <tr>\n",
       "      <th>1</th>\n",
       "      <td>87</td>\n",
       "      <td>1</td>\n",
       "      <td>0.6</td>\n",
       "      <td>0.405465</td>\n",
       "      <td>0.4</td>\n",
       "      <td>1.666667</td>\n",
       "      <td>0.639255</td>\n",
       "    </tr>\n",
       "    <tr>\n",
       "      <th>2</th>\n",
       "      <td>44</td>\n",
       "      <td>0</td>\n",
       "      <td>0.6</td>\n",
       "      <td>0.405465</td>\n",
       "      <td>-0.6</td>\n",
       "      <td>-2.500000</td>\n",
       "      <td>0.538788</td>\n",
       "    </tr>\n",
       "    <tr>\n",
       "      <th>3</th>\n",
       "      <td>56</td>\n",
       "      <td>0</td>\n",
       "      <td>0.6</td>\n",
       "      <td>0.405465</td>\n",
       "      <td>-0.6</td>\n",
       "      <td>-2.500000</td>\n",
       "      <td>0.538788</td>\n",
       "    </tr>\n",
       "    <tr>\n",
       "      <th>4</th>\n",
       "      <td>24</td>\n",
       "      <td>1</td>\n",
       "      <td>0.6</td>\n",
       "      <td>0.405465</td>\n",
       "      <td>0.4</td>\n",
       "      <td>1.666667</td>\n",
       "      <td>0.639255</td>\n",
       "    </tr>\n",
       "  </tbody>\n",
       "</table>\n",
       "</div>"
      ],
      "text/plain": [
       "   Age  y  initial_prediction  output_0  residuals_0  output_1  prediction_1\n",
       "0   12  1                 0.6  0.405465          0.4  1.666667      0.639255\n",
       "1   87  1                 0.6  0.405465          0.4  1.666667      0.639255\n",
       "2   44  0                 0.6  0.405465         -0.6 -2.500000      0.538788\n",
       "3   56  0                 0.6  0.405465         -0.6 -2.500000      0.538788\n",
       "4   24  1                 0.6  0.405465          0.4  1.666667      0.639255"
      ]
     },
     "execution_count": 11,
     "metadata": {},
     "output_type": "execute_result"
    }
   ],
   "source": [
    "output_total = data['output_0'] + learning_rate*data['output_1']\n",
    "data['prediction_1'] = 1/(1+np.exp(-output_total))\n",
    "data"
   ]
  },
  {
   "cell_type": "code",
   "execution_count": 12,
   "metadata": {},
   "outputs": [
    {
     "data": {
      "text/plain": [
       "array([[0.36074507, 0.63925493],\n",
       "       [0.36074507, 0.63925493],\n",
       "       [0.46121182, 0.53878818],\n",
       "       [0.46121182, 0.53878818],\n",
       "       [0.36074507, 0.63925493]])"
      ]
     },
     "execution_count": 12,
     "metadata": {},
     "output_type": "execute_result"
    }
   ],
   "source": [
    "#  сравниваем с реализацией бустинга на первом дереве. ура!!! совпали\n",
    "# for ypred in clf.staged_predict_proba(X_train):\n",
    "#     print(ypred)\n",
    "#     break\n",
    "list(clf.staged_predict_proba(X_train))[0]"
   ]
  },
  {
   "cell_type": "markdown",
   "metadata": {},
   "source": [
    "второе дерево смотрим"
   ]
  },
  {
   "cell_type": "markdown",
   "metadata": {},
   "source": [
    "рассчитаем residuals, которые будем минимизировать вторым деревом"
   ]
  },
  {
   "cell_type": "code",
   "execution_count": 13,
   "metadata": {},
   "outputs": [
    {
     "data": {
      "text/html": [
       "<div>\n",
       "<style scoped>\n",
       "    .dataframe tbody tr th:only-of-type {\n",
       "        vertical-align: middle;\n",
       "    }\n",
       "\n",
       "    .dataframe tbody tr th {\n",
       "        vertical-align: top;\n",
       "    }\n",
       "\n",
       "    .dataframe thead th {\n",
       "        text-align: right;\n",
       "    }\n",
       "</style>\n",
       "<table border=\"1\" class=\"dataframe\">\n",
       "  <thead>\n",
       "    <tr style=\"text-align: right;\">\n",
       "      <th></th>\n",
       "      <th>Age</th>\n",
       "      <th>y</th>\n",
       "      <th>initial_prediction</th>\n",
       "      <th>output_0</th>\n",
       "      <th>residuals_0</th>\n",
       "      <th>output_1</th>\n",
       "      <th>prediction_1</th>\n",
       "      <th>residuals_1</th>\n",
       "    </tr>\n",
       "  </thead>\n",
       "  <tbody>\n",
       "    <tr>\n",
       "      <th>0</th>\n",
       "      <td>12</td>\n",
       "      <td>1</td>\n",
       "      <td>0.6</td>\n",
       "      <td>0.405465</td>\n",
       "      <td>0.4</td>\n",
       "      <td>1.666667</td>\n",
       "      <td>0.639255</td>\n",
       "      <td>0.360745</td>\n",
       "    </tr>\n",
       "    <tr>\n",
       "      <th>1</th>\n",
       "      <td>87</td>\n",
       "      <td>1</td>\n",
       "      <td>0.6</td>\n",
       "      <td>0.405465</td>\n",
       "      <td>0.4</td>\n",
       "      <td>1.666667</td>\n",
       "      <td>0.639255</td>\n",
       "      <td>0.360745</td>\n",
       "    </tr>\n",
       "    <tr>\n",
       "      <th>2</th>\n",
       "      <td>44</td>\n",
       "      <td>0</td>\n",
       "      <td>0.6</td>\n",
       "      <td>0.405465</td>\n",
       "      <td>-0.6</td>\n",
       "      <td>-2.500000</td>\n",
       "      <td>0.538788</td>\n",
       "      <td>-0.538788</td>\n",
       "    </tr>\n",
       "    <tr>\n",
       "      <th>3</th>\n",
       "      <td>56</td>\n",
       "      <td>0</td>\n",
       "      <td>0.6</td>\n",
       "      <td>0.405465</td>\n",
       "      <td>-0.6</td>\n",
       "      <td>-2.500000</td>\n",
       "      <td>0.538788</td>\n",
       "      <td>-0.538788</td>\n",
       "    </tr>\n",
       "    <tr>\n",
       "      <th>4</th>\n",
       "      <td>24</td>\n",
       "      <td>1</td>\n",
       "      <td>0.6</td>\n",
       "      <td>0.405465</td>\n",
       "      <td>0.4</td>\n",
       "      <td>1.666667</td>\n",
       "      <td>0.639255</td>\n",
       "      <td>0.360745</td>\n",
       "    </tr>\n",
       "  </tbody>\n",
       "</table>\n",
       "</div>"
      ],
      "text/plain": [
       "   Age  y  initial_prediction  output_0  residuals_0  output_1  prediction_1  \\\n",
       "0   12  1                 0.6  0.405465          0.4  1.666667      0.639255   \n",
       "1   87  1                 0.6  0.405465          0.4  1.666667      0.639255   \n",
       "2   44  0                 0.6  0.405465         -0.6 -2.500000      0.538788   \n",
       "3   56  0                 0.6  0.405465         -0.6 -2.500000      0.538788   \n",
       "4   24  1                 0.6  0.405465          0.4  1.666667      0.639255   \n",
       "\n",
       "   residuals_1  \n",
       "0     0.360745  \n",
       "1     0.360745  \n",
       "2    -0.538788  \n",
       "3    -0.538788  \n",
       "4     0.360745  "
      ]
     },
     "execution_count": 13,
     "metadata": {},
     "output_type": "execute_result"
    }
   ],
   "source": [
    "data['residuals_1'] = data['y'] - data['prediction_1']\n",
    "\n",
    "data"
   ]
  },
  {
   "cell_type": "code",
   "execution_count": 14,
   "metadata": {},
   "outputs": [
    {
     "data": {
      "image/png": "[encoded data removed]",
      "text/plain": [
       "<IPython.core.display.Image object>"
      ]
     },
     "execution_count": 14,
     "metadata": {},
     "output_type": "execute_result"
    }
   ],
   "source": [
    "# Get the tree number 2\n",
    "plot_tree(1)"
   ]
  },
  {
   "cell_type": "code",
   "execution_count": 15,
   "metadata": {},
   "outputs": [
    {
     "data": {
      "text/html": [
       "<div>\n",
       "<style scoped>\n",
       "    .dataframe tbody tr th:only-of-type {\n",
       "        vertical-align: middle;\n",
       "    }\n",
       "\n",
       "    .dataframe tbody tr th {\n",
       "        vertical-align: top;\n",
       "    }\n",
       "\n",
       "    .dataframe thead th {\n",
       "        text-align: right;\n",
       "    }\n",
       "</style>\n",
       "<table border=\"1\" class=\"dataframe\">\n",
       "  <thead>\n",
       "    <tr style=\"text-align: right;\">\n",
       "      <th></th>\n",
       "      <th>Age</th>\n",
       "      <th>y</th>\n",
       "      <th>initial_prediction</th>\n",
       "      <th>output_0</th>\n",
       "      <th>residuals_0</th>\n",
       "      <th>output_1</th>\n",
       "      <th>prediction_1</th>\n",
       "      <th>residuals_1</th>\n",
       "      <th>output_2</th>\n",
       "    </tr>\n",
       "  </thead>\n",
       "  <tbody>\n",
       "    <tr>\n",
       "      <th>0</th>\n",
       "      <td>12</td>\n",
       "      <td>1</td>\n",
       "      <td>0.6</td>\n",
       "      <td>0.405465</td>\n",
       "      <td>0.4</td>\n",
       "      <td>1.666667</td>\n",
       "      <td>0.639255</td>\n",
       "      <td>0.360745</td>\n",
       "      <td>1.564321</td>\n",
       "    </tr>\n",
       "    <tr>\n",
       "      <th>1</th>\n",
       "      <td>87</td>\n",
       "      <td>1</td>\n",
       "      <td>0.6</td>\n",
       "      <td>0.405465</td>\n",
       "      <td>0.4</td>\n",
       "      <td>1.666667</td>\n",
       "      <td>0.639255</td>\n",
       "      <td>0.360745</td>\n",
       "      <td>1.564321</td>\n",
       "    </tr>\n",
       "    <tr>\n",
       "      <th>2</th>\n",
       "      <td>44</td>\n",
       "      <td>0</td>\n",
       "      <td>0.6</td>\n",
       "      <td>0.405465</td>\n",
       "      <td>-0.6</td>\n",
       "      <td>-2.500000</td>\n",
       "      <td>0.538788</td>\n",
       "      <td>-0.538788</td>\n",
       "      <td>-2.168201</td>\n",
       "    </tr>\n",
       "    <tr>\n",
       "      <th>3</th>\n",
       "      <td>56</td>\n",
       "      <td>0</td>\n",
       "      <td>0.6</td>\n",
       "      <td>0.405465</td>\n",
       "      <td>-0.6</td>\n",
       "      <td>-2.500000</td>\n",
       "      <td>0.538788</td>\n",
       "      <td>-0.538788</td>\n",
       "      <td>-2.168201</td>\n",
       "    </tr>\n",
       "    <tr>\n",
       "      <th>4</th>\n",
       "      <td>24</td>\n",
       "      <td>1</td>\n",
       "      <td>0.6</td>\n",
       "      <td>0.405465</td>\n",
       "      <td>0.4</td>\n",
       "      <td>1.666667</td>\n",
       "      <td>0.639255</td>\n",
       "      <td>0.360745</td>\n",
       "      <td>1.564321</td>\n",
       "    </tr>\n",
       "  </tbody>\n",
       "</table>\n",
       "</div>"
      ],
      "text/plain": [
       "   Age  y  initial_prediction  output_0  residuals_0  output_1  prediction_1  \\\n",
       "0   12  1                 0.6  0.405465          0.4  1.666667      0.639255   \n",
       "1   87  1                 0.6  0.405465          0.4  1.666667      0.639255   \n",
       "2   44  0                 0.6  0.405465         -0.6 -2.500000      0.538788   \n",
       "3   56  0                 0.6  0.405465         -0.6 -2.500000      0.538788   \n",
       "4   24  1                 0.6  0.405465          0.4  1.666667      0.639255   \n",
       "\n",
       "   residuals_1  output_2  \n",
       "0     0.360745  1.564321  \n",
       "1     0.360745  1.564321  \n",
       "2    -0.538788 -2.168201  \n",
       "3    -0.538788 -2.168201  \n",
       "4     0.360745  1.564321  "
      ]
     },
     "execution_count": 15,
     "metadata": {},
     "output_type": "execute_result"
    }
   ],
   "source": [
    "# как посчитать output value для второго узла\n",
    "mask = (data['Age']<=34)\n",
    "data.loc[mask, 'output_2'] =  data.loc[mask, 'residuals_1'].sum()/((data.loc[mask, 'prediction_1']*(1-data.loc[mask, 'prediction_1'])).sum())\n",
    "\n",
    "mask = (data['Age']>71.5)\n",
    "data.loc[mask, 'output_2'] =  data.loc[mask, 'residuals_1'].sum()/((data.loc[mask, 'prediction_1']*(1-data.loc[mask, 'prediction_1'])).sum())\n",
    "\n",
    "mask = (data['Age']<=71.5)&((data['Age']>34))\n",
    "data.loc[mask, 'output_2'] =  data.loc[mask, 'residuals_1'].sum()/((data.loc[mask, 'prediction_1']*(1-data.loc[mask, 'prediction_1'])).sum())\n",
    "data\n"
   ]
  },
  {
   "cell_type": "markdown",
   "metadata": {},
   "source": [
    "теперь расчитаем на вероятность"
   ]
  },
  {
   "cell_type": "code",
   "execution_count": 16,
   "metadata": {},
   "outputs": [
    {
     "data": {
      "text/html": [
       "<div>\n",
       "<style scoped>\n",
       "    .dataframe tbody tr th:only-of-type {\n",
       "        vertical-align: middle;\n",
       "    }\n",
       "\n",
       "    .dataframe tbody tr th {\n",
       "        vertical-align: top;\n",
       "    }\n",
       "\n",
       "    .dataframe thead th {\n",
       "        text-align: right;\n",
       "    }\n",
       "</style>\n",
       "<table border=\"1\" class=\"dataframe\">\n",
       "  <thead>\n",
       "    <tr style=\"text-align: right;\">\n",
       "      <th></th>\n",
       "      <th>Age</th>\n",
       "      <th>y</th>\n",
       "      <th>initial_prediction</th>\n",
       "      <th>output_0</th>\n",
       "      <th>residuals_0</th>\n",
       "      <th>output_1</th>\n",
       "      <th>prediction_1</th>\n",
       "      <th>residuals_1</th>\n",
       "      <th>output_2</th>\n",
       "      <th>prediction_2</th>\n",
       "    </tr>\n",
       "  </thead>\n",
       "  <tbody>\n",
       "    <tr>\n",
       "      <th>0</th>\n",
       "      <td>12</td>\n",
       "      <td>1</td>\n",
       "      <td>0.6</td>\n",
       "      <td>0.405465</td>\n",
       "      <td>0.4</td>\n",
       "      <td>1.666667</td>\n",
       "      <td>0.639255</td>\n",
       "      <td>0.360745</td>\n",
       "      <td>1.564321</td>\n",
       "      <td>0.674490</td>\n",
       "    </tr>\n",
       "    <tr>\n",
       "      <th>1</th>\n",
       "      <td>87</td>\n",
       "      <td>1</td>\n",
       "      <td>0.6</td>\n",
       "      <td>0.405465</td>\n",
       "      <td>0.4</td>\n",
       "      <td>1.666667</td>\n",
       "      <td>0.639255</td>\n",
       "      <td>0.360745</td>\n",
       "      <td>1.564321</td>\n",
       "      <td>0.674490</td>\n",
       "    </tr>\n",
       "    <tr>\n",
       "      <th>2</th>\n",
       "      <td>44</td>\n",
       "      <td>0</td>\n",
       "      <td>0.6</td>\n",
       "      <td>0.405465</td>\n",
       "      <td>-0.6</td>\n",
       "      <td>-2.500000</td>\n",
       "      <td>0.538788</td>\n",
       "      <td>-0.538788</td>\n",
       "      <td>-2.168201</td>\n",
       "      <td>0.484666</td>\n",
       "    </tr>\n",
       "    <tr>\n",
       "      <th>3</th>\n",
       "      <td>56</td>\n",
       "      <td>0</td>\n",
       "      <td>0.6</td>\n",
       "      <td>0.405465</td>\n",
       "      <td>-0.6</td>\n",
       "      <td>-2.500000</td>\n",
       "      <td>0.538788</td>\n",
       "      <td>-0.538788</td>\n",
       "      <td>-2.168201</td>\n",
       "      <td>0.484666</td>\n",
       "    </tr>\n",
       "    <tr>\n",
       "      <th>4</th>\n",
       "      <td>24</td>\n",
       "      <td>1</td>\n",
       "      <td>0.6</td>\n",
       "      <td>0.405465</td>\n",
       "      <td>0.4</td>\n",
       "      <td>1.666667</td>\n",
       "      <td>0.639255</td>\n",
       "      <td>0.360745</td>\n",
       "      <td>1.564321</td>\n",
       "      <td>0.674490</td>\n",
       "    </tr>\n",
       "  </tbody>\n",
       "</table>\n",
       "</div>"
      ],
      "text/plain": [
       "   Age  y  initial_prediction  output_0  residuals_0  output_1  prediction_1  \\\n",
       "0   12  1                 0.6  0.405465          0.4  1.666667      0.639255   \n",
       "1   87  1                 0.6  0.405465          0.4  1.666667      0.639255   \n",
       "2   44  0                 0.6  0.405465         -0.6 -2.500000      0.538788   \n",
       "3   56  0                 0.6  0.405465         -0.6 -2.500000      0.538788   \n",
       "4   24  1                 0.6  0.405465          0.4  1.666667      0.639255   \n",
       "\n",
       "   residuals_1  output_2  prediction_2  \n",
       "0     0.360745  1.564321      0.674490  \n",
       "1     0.360745  1.564321      0.674490  \n",
       "2    -0.538788 -2.168201      0.484666  \n",
       "3    -0.538788 -2.168201      0.484666  \n",
       "4     0.360745  1.564321      0.674490  "
      ]
     },
     "execution_count": 16,
     "metadata": {},
     "output_type": "execute_result"
    }
   ],
   "source": [
    "output_total = data['output_0'] + learning_rate*data['output_1'] + learning_rate*data['output_2']\n",
    "data['prediction_2'] = 1/(1+np.exp(-output_total))\n",
    "data"
   ]
  },
  {
   "cell_type": "code",
   "execution_count": 17,
   "metadata": {},
   "outputs": [
    {
     "data": {
      "text/plain": [
       "array([[0.32550995, 0.67449005],\n",
       "       [0.32550995, 0.67449005],\n",
       "       [0.51533394, 0.48466606],\n",
       "       [0.51533394, 0.48466606],\n",
       "       [0.32550995, 0.67449005]])"
      ]
     },
     "execution_count": 17,
     "metadata": {},
     "output_type": "execute_result"
    }
   ],
   "source": [
    "#  сравниваем с реализацией бустинга. ура!!! совпала\n",
    "list(clf.staged_predict_proba(X_train))[1]"
   ]
  },
  {
   "cell_type": "code",
   "execution_count": 18,
   "metadata": {},
   "outputs": [
    {
     "data": {
      "text/plain": [
       "array([[0.32550995, 0.67449005],\n",
       "       [0.32550995, 0.67449005],\n",
       "       [0.51533394, 0.48466606],\n",
       "       [0.51533394, 0.48466606],\n",
       "       [0.32550995, 0.67449005]])"
      ]
     },
     "execution_count": 18,
     "metadata": {},
     "output_type": "execute_result"
    }
   ],
   "source": [
    "#  получили аналогичный результат как и prediction_2\n",
    "clf.predict_proba(X_train)"
   ]
  },
  {
   "cell_type": "markdown",
   "metadata": {},
   "source": []
  }
 ],
 "metadata": {
  "kernelspec": {
   "display_name": "base",
   "language": "python",
   "name": "python3"
  },
  "language_info": {
   "codemirror_mode": {
    "name": "ipython",
    "version": 3
   },
   "file_extension": ".py",
   "mimetype": "text/x-python",
   "name": "python",
   "nbconvert_exporter": "python",
   "pygments_lexer": "ipython3",
   "version": "3.9.16"
  }
 },
 "nbformat": 4,
 "nbformat_minor": 2
}
